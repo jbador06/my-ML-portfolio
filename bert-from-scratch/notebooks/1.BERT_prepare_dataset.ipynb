{
 "cells": [
  {
   "cell_type": "markdown",
   "metadata": {},
   "source": [
    "Originalement BERT a été pré-entrainé sur des datasets Wikipedia et BookCorpus (dispo sur hugging face)\n",
    "\n",
    "*Note: For wikipedia we will use the 20220301, which is different from the original split. As a first step we are loading the datasets and merging them together to create on big dataset.*"
   ]
  },
  {
   "cell_type": "code",
   "execution_count": 1,
   "metadata": {},
   "outputs": [
    {
     "data": {
      "application/vnd.jupyter.widget-view+json": {
       "model_id": "a0623d749d9743f7b2108687f553c309",
       "version_major": 2,
       "version_minor": 0
      },
      "text/plain": [
       "Loading dataset shards:   0%|          | 0/41 [00:00<?, ?it/s]"
      ]
     },
     "metadata": {},
     "output_type": "display_data"
    }
   ],
   "source": [
    "from datasets import load_dataset, concatenate_datasets\n",
    "\n",
    "bookcorpus = load_dataset(\"bookcorpus\", split=\"train\")\n",
    "wiki = load_dataset(\"wikipedia\", \"20220301.en\", split=\"train\")\n",
    "wiki = wiki.remove_columns([col for col in wiki.column_names if col != \"text\"])"
   ]
  },
  {
   "cell_type": "code",
   "execution_count": 2,
   "metadata": {},
   "outputs": [],
   "source": [
    "assert bookcorpus.features.type == wiki.features.type\n",
    "raw_datasets = concatenate_datasets([bookcorpus, wiki])"
   ]
  },
  {
   "cell_type": "code",
   "execution_count": 4,
   "metadata": {},
   "outputs": [
    {
     "data": {
      "text/plain": [
       "['usually , he would be tearing around the living room , playing with his toys .',\n",
       " 'but just one look at a minion sent him practically catatonic .',\n",
       " \"that had been megan 's plan when she got him dressed earlier .\",\n",
       " \"he 'd seen the movie almost by mistake , considering he was a little young for the pg cartoon , but with older cousins , along with her brothers , mason was often exposed to things that were older .\",\n",
       " 'she liked to think being surrounded by adults and older kids was one reason why he was a such a good talker for his age .',\n",
       " \"`` are n't you being a good boy ? ''\",\n",
       " 'she said .',\n",
       " 'mason barely acknowledged her .',\n",
       " 'instead , his baby blues remained focused on the television .',\n",
       " 'since the movie was almost over , megan knew she better slip into the bedroom and finish getting ready .']"
      ]
     },
     "execution_count": 4,
     "metadata": {},
     "output_type": "execute_result"
    }
   ],
   "source": [
    "raw_datasets[:10][\"text\"]"
   ]
  },
  {
   "cell_type": "code",
   "execution_count": 4,
   "metadata": {},
   "outputs": [],
   "source": [
    "from tqdm import tqdm\n",
    "\n",
    "batch_size = 1_000_000\n",
    "tasks = []\n",
    "for i in range(0, len(raw_datasets), batch_size):\n",
    "    tasks.append((i, min(i + batch_size, len(raw_datasets) + 1) - 1))\n",
    "\n",
    "def write_sub_file(i_begin, i_end):\n",
    "    with open(f\"./data/text_{i_begin // (i_end - i_begin)}.txt\", \"w\", encoding=\"utf-8\") as f:\n",
    "        for i in tqdm(range(i_begin, i_end)):\n",
    "            f.write(raw_datasets[i][\"text\"] + \"\\n\")"
   ]
  },
  {
   "cell_type": "code",
   "execution_count": null,
   "metadata": {},
   "outputs": [
    {
     "name": "stderr",
     "output_type": "stream",
     "text": [
      "100%|██████████| 999999/999999 [01:09<00:00, 14424.78it/s]\n",
      "100%|██████████| 999999/999999 [01:11<00:00, 14045.31it/s]\n",
      "100%|██████████| 999999/999999 [01:11<00:00, 13996.91it/s]\n",
      "100%|██████████| 999999/999999 [01:12<00:00, 13877.91it/s]\n",
      "100%|██████████| 999999/999999 [01:12<00:00, 13730.77it/s]\n",
      "100%|██████████| 999999/999999 [01:13<00:00, 13610.08it/s]\n",
      "100%|██████████| 999999/999999 [01:13<00:00, 13524.06it/s]\n",
      "100%|██████████| 999999/999999 [01:15<00:00, 13188.78it/s]\n",
      "100%|██████████| 999999/999999 [01:12<00:00, 13877.60it/s]\n",
      "100%|██████████| 999999/999999 [01:13<00:00, 13599.16it/s]\n",
      "100%|██████████| 999999/999999 [01:14<00:00, 13410.67it/s]\n",
      "100%|██████████| 999999/999999 [01:14<00:00, 13436.87it/s]\n",
      "100%|██████████| 999999/999999 [01:13<00:00, 13632.48it/s]\n",
      "100%|██████████| 999999/999999 [01:15<00:00, 13159.27it/s]\n",
      "100%|██████████| 999999/999999 [01:14<00:00, 13370.07it/s]\n",
      "100%|██████████| 999999/999999 [01:14<00:00, 13399.58it/s]\n",
      "100%|██████████| 999999/999999 [01:15<00:00, 13259.34it/s]\n",
      "100%|██████████| 999999/999999 [01:13<00:00, 13632.79it/s]\n",
      "100%|██████████| 999999/999999 [01:11<00:00, 13917.38it/s]\n",
      "100%|██████████| 999999/999999 [01:12<00:00, 13732.97it/s]\n",
      "100%|██████████| 999999/999999 [01:14<00:00, 13366.98it/s]\n",
      "100%|██████████| 999999/999999 [01:14<00:00, 13487.29it/s]\n",
      "100%|██████████| 999999/999999 [01:11<00:00, 13897.47it/s]\n",
      "100%|██████████| 999999/999999 [01:15<00:00, 13328.97it/s]\n",
      "100%|██████████| 999999/999999 [01:13<00:00, 13695.33it/s]\n",
      "100%|██████████| 999999/999999 [01:13<00:00, 13522.91it/s]\n",
      "100%|██████████| 999999/999999 [01:12<00:00, 13766.75it/s]\n",
      "100%|██████████| 999999/999999 [01:12<00:00, 13775.09it/s]\n",
      "100%|██████████| 999999/999999 [01:15<00:00, 13250.28it/s]\n",
      "100%|██████████| 999999/999999 [01:12<00:00, 13787.39it/s]\n",
      "100%|██████████| 999999/999999 [01:15<00:00, 13295.33it/s]\n",
      "100%|██████████| 999999/999999 [01:13<00:00, 13513.78it/s]\n",
      "100%|██████████| 999999/999999 [01:15<00:00, 13307.58it/s]\n",
      "100%|██████████| 999999/999999 [01:12<00:00, 13728.28it/s]\n",
      "100%|██████████| 999999/999999 [01:12<00:00, 13869.62it/s]\n",
      "100%|██████████| 999999/999999 [01:13<00:00, 13657.26it/s]\n",
      "100%|██████████| 999999/999999 [01:11<00:00, 14060.13it/s]\n",
      "100%|██████████| 999999/999999 [01:13<00:00, 13545.77it/s]\n",
      "100%|██████████| 999999/999999 [01:14<00:00, 13343.00it/s]\n",
      "100%|██████████| 999999/999999 [01:15<00:00, 13188.66it/s]\n",
      "100%|██████████| 999999/999999 [01:12<00:00, 13700.63it/s]\n",
      "100%|██████████| 999999/999999 [01:14<00:00, 13505.16it/s]\n",
      "100%|██████████| 999999/999999 [01:13<00:00, 13640.21it/s]\n",
      "100%|██████████| 999999/999999 [01:14<00:00, 13337.88it/s]\n",
      "100%|██████████| 999999/999999 [01:13<00:00, 13610.16it/s]\n",
      "100%|██████████| 999999/999999 [01:14<00:00, 13419.89it/s]\n",
      "100%|██████████| 999999/999999 [01:15<00:00, 13244.02it/s]\n",
      "100%|██████████| 999999/999999 [01:14<00:00, 13369.83it/s]\n",
      "100%|██████████| 999999/999999 [01:13<00:00, 13653.09it/s]\n",
      "100%|██████████| 999999/999999 [01:14<00:00, 13481.33it/s]\n",
      "100%|██████████| 999999/999999 [01:13<00:00, 13547.90it/s]\n",
      "100%|██████████| 999999/999999 [01:12<00:00, 13732.45it/s]\n",
      "100%|██████████| 999999/999999 [01:13<00:00, 13661.80it/s]\n",
      "100%|██████████| 999999/999999 [01:13<00:00, 13549.60it/s]\n",
      "100%|██████████| 999999/999999 [01:14<00:00, 13412.20it/s]\n",
      "100%|██████████| 999999/999999 [01:14<00:00, 13385.30it/s]\n",
      "100%|██████████| 999999/999999 [01:12<00:00, 13728.49it/s]\n",
      "100%|██████████| 999999/999999 [01:12<00:00, 13792.64it/s]\n",
      "100%|██████████| 999999/999999 [01:12<00:00, 13761.11it/s]\n",
      "100%|██████████| 999999/999999 [01:14<00:00, 13426.91it/s]\n",
      "100%|██████████| 999999/999999 [01:12<00:00, 13853.84it/s]\n",
      "100%|██████████| 999999/999999 [01:14<00:00, 13404.62it/s]\n",
      "100%|██████████| 999999/999999 [01:15<00:00, 13216.89it/s]\n",
      "100%|██████████| 999999/999999 [01:13<00:00, 13550.59it/s]\n",
      "100%|██████████| 999999/999999 [01:11<00:00, 13896.27it/s]\n",
      "100%|██████████| 999999/999999 [01:12<00:00, 13699.78it/s]\n",
      "100%|██████████| 999999/999999 [01:15<00:00, 13267.24it/s]\n",
      "100%|██████████| 999999/999999 [01:14<00:00, 13460.63it/s]\n",
      "100%|██████████| 999999/999999 [01:13<00:00, 13572.00it/s]\n",
      "100%|██████████| 999999/999999 [01:14<00:00, 13385.66it/s]\n",
      "100%|██████████| 999999/999999 [01:14<00:00, 13340.11it/s]\n",
      "100%|██████████| 999999/999999 [01:16<00:00, 13044.75it/s]\n",
      "100%|██████████| 999999/999999 [01:15<00:00, 13270.92it/s]\n",
      "100%|██████████| 999999/999999 [01:17<00:00, 12942.29it/s]\n",
      "100%|██████████| 999999/999999 [01:33<00:00, 10731.59it/s]\n",
      "100%|██████████| 999999/999999 [01:27<00:00, 11409.77it/s]\n",
      "100%|██████████| 999999/999999 [01:29<00:00, 11172.62it/s]\n",
      "100%|██████████| 999999/999999 [01:37<00:00, 10223.69it/s]\n",
      "100%|██████████| 999999/999999 [01:30<00:00, 11039.19it/s]\n",
      "100%|██████████| 999999/999999 [01:47<00:00, 9289.95it/s] \n",
      "100%|██████████| 462898/462898 [00:35<00:00, 13080.45it/s]\n"
     ]
    }
   ],
   "source": [
    "from multiprocessing import Pool\n",
    "\n",
    "PARALLEL = True\n",
    "\n",
    "if PARALLEL:\n",
    "    with Pool(processes=8, maxtasksperchild=1) as pool:\n",
    "        pool.starmap(write_sub_file, tasks, chunksize=1)\n",
    "else:\n",
    "    res = list(itt.starmap(write_sub_file, tasks))"
   ]
  },
  {
   "cell_type": "markdown",
   "metadata": {},
   "source": [
    "TODO : advanced dataset preparation (de-duplication, filtering, other preprocessing tasks ...)"
   ]
  }
 ],
 "metadata": {
  "kernelspec": {
   "display_name": "base",
   "language": "python",
   "name": "python3"
  },
  "language_info": {
   "codemirror_mode": {
    "name": "ipython",
    "version": 3
   },
   "file_extension": ".py",
   "mimetype": "text/x-python",
   "name": "python",
   "nbconvert_exporter": "python",
   "pygments_lexer": "ipython3",
   "version": "3.10.9"
  }
 },
 "nbformat": 4,
 "nbformat_minor": 2
}
